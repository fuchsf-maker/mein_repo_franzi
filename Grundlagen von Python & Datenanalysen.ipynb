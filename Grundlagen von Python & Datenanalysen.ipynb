{
 "cells": [
  {
   "cell_type": "markdown",
   "id": "f2e6d58b",
   "metadata": {},
   "source": [
    "# Grundlagen von Python & Datenanalysen"
   ]
  },
  {
   "cell_type": "markdown",
   "id": "f5b46b50",
   "metadata": {},
   "source": [
    "Wir verwenden Python über Jupyter Notebooks. Jupyter Notebooks bieten eine perfekte Balance zwischen ausführbarem Code und deren Beschreibungstexten in sogenannten Mark Down's. In diesem Notebook wollen wir die Grundlagen lernen und eine erste praktische Übung durchführen. Diese Einführung dient als Basic-Einführung, um die Prozesse zu verstehen. In Schritt 2 widmen wir uns der Praxis mit einer Datenanalyse. "
   ]
  },
  {
   "cell_type": "markdown",
   "id": "51570d8f",
   "metadata": {},
   "source": [
    "Das wichtigste bei Jupyter Notebooks. <b>Immer alle Codezellen in absteigender Reihenfolge ausführen, sonst kommt es zu Fehlermeldungen!</b>"
   ]
  },
  {
   "cell_type": "markdown",
   "id": "cd11c9b6",
   "metadata": {},
   "source": [
    "## Der erste Python Befehl"
   ]
  },
  {
   "cell_type": "markdown",
   "id": "5b4a74ab",
   "metadata": {},
   "source": [
    "Jedes Tutorial startet mit einer Begrüßung. Begrüßen wir unser Referat. Dafür nutzen wir den Printbefehl und geben in \"\" an, was gedruckt werden soll. Dies kann in der Praxis nicht nur mit Textbausteinen, sondern auch mit Variablen gefüllt werden, um Auswertungsergebnisse anzuzeigen. "
   ]
  },
  {
   "cell_type": "code",
   "execution_count": 2,
   "id": "3493834e",
   "metadata": {},
   "outputs": [
    {
     "name": "stdout",
     "output_type": "stream",
     "text": [
      "Hallo 2D.1!\n"
     ]
    }
   ],
   "source": [
    "print(\"Hallo 2D.1!\")"
   ]
  },
  {
   "cell_type": "code",
   "execution_count": 3,
   "id": "e84bd7b2",
   "metadata": {},
   "outputs": [
    {
     "name": "stdout",
     "output_type": "stream",
     "text": [
      "Wo ist der Text hin?\n"
     ]
    }
   ],
   "source": [
    "# Was passiert mit diesem Text? \n",
    "print(\"Wo ist der Text hin?\")"
   ]
  },
  {
   "cell_type": "markdown",
   "id": "d01ffaaf",
   "metadata": {},
   "source": [
    "Kommentare in Python werden mit # eingeleitet. Sie sind essentiell, um den geschriebenen Code zu beschreiben und bei einer späteren Bearbeitung inhaltlich wieder einsteigen zu können. "
   ]
  },
  {
   "cell_type": "markdown",
   "id": "5f92db34",
   "metadata": {},
   "source": [
    "## Die Datentypen (Variablen) "
   ]
  },
  {
   "cell_type": "markdown",
   "id": "87b9749d",
   "metadata": {},
   "source": [
    "Zur Arbeit in Python kann man verschiedene Datentypen, sogenannte Variablen defininieren. Einfach gesagt sind das Werte, in die wir etwas reinapcken können. Die Auswertung verschiedener Datentypen untereinander ist nicht möglich. Variablen können verkettet werden, d.h. man kann aus verschiedenen Variablen seine Werte zusammenbauen. Die Printbefehle geben den definierten Wert aus. "
   ]
  },
  {
   "cell_type": "code",
   "execution_count": 9,
   "id": "fa5ae67f",
   "metadata": {},
   "outputs": [
    {
     "name": "stdout",
     "output_type": "stream",
     "text": [
      "Ada\n",
      "37\n",
      "1.725\n",
      "True\n",
      "False\n"
     ]
    }
   ],
   "source": [
    "# Strings- Zeichenketten\n",
    "name = \"Ada\"\n",
    "print(name)\n",
    "\n",
    "# Integer - Ganzzahlen\n",
    "age = 37 # Ein Integer darf keine \"\" bekommen. \n",
    "print(age)\n",
    "\n",
    "# Float- Gleitkommazahlen\n",
    "size = 1.725 # Nur mit Punkten arbeiten. Hier wird der \"amerikanische\" Typ genommen\n",
    "print(size)\n",
    "\n",
    "# Boolean - Boolsche Werte\n",
    "knows_math = True\n",
    "likes_gardening = False # True und False sind Boolsche Werte. Etwas kann nur warhr oder falsch sein \n",
    "print(knows_math)\n",
    "print(likes_gardening)"
   ]
  },
  {
   "cell_type": "markdown",
   "id": "c9dcac0b",
   "metadata": {},
   "source": [
    "## Operatoren "
   ]
  },
  {
   "cell_type": "code",
   "execution_count": 13,
   "id": "7d855ba5",
   "metadata": {},
   "outputs": [
    {
     "data": {
      "text/plain": [
       "10"
      ]
     },
     "execution_count": 13,
     "metadata": {},
     "output_type": "execute_result"
    }
   ],
   "source": [
    "# Addition von Integer \n",
    "5 + 5"
   ]
  },
  {
   "cell_type": "code",
   "execution_count": 14,
   "id": "7a878df0",
   "metadata": {},
   "outputs": [
    {
     "data": {
      "text/plain": [
       "9250"
      ]
     },
     "execution_count": 14,
     "metadata": {},
     "output_type": "execute_result"
    }
   ],
   "source": [
    "# Multiplizieren\n",
    "age * 250"
   ]
  },
  {
   "cell_type": "code",
   "execution_count": 15,
   "id": "597bca99",
   "metadata": {},
   "outputs": [
    {
     "data": {
      "text/plain": [
       "'AdaAda'"
      ]
     },
     "execution_count": 15,
     "metadata": {},
     "output_type": "execute_result"
    }
   ],
   "source": [
    "# Verkettings von Strings \n",
    "name + name"
   ]
  },
  {
   "cell_type": "code",
   "execution_count": 19,
   "id": "ed742db6",
   "metadata": {},
   "outputs": [
    {
     "data": {
      "text/plain": [
       "'AdaAdaAdaAdaAdaAdaAdaAdaAdaAdaAdaAdaAdaAdaAdaAdaAdaAdaAdaAdaAdaAdaAdaAdaAdaAdaAdaAdaAdaAdaAdaAdaAdaAdaAdaAdaAdaAdaAdaAdaAdaAdaAdaAdaAdaAdaAdaAdaAdaAdaAdaAdaAdaAdaAdaAdaAdaAdaAdaAdaAdaAdaAdaAdaAdaAdaAdaAdaAdaAdaAdaAdaAdaAdaAdaAdaAdaAdaAdaAdaAdaAdaAdaAdaAdaAdaAdaAdaAdaAdaAdaAdaAdaAdaAdaAdaAdaAdaAdaAda'"
      ]
     },
     "execution_count": 19,
     "metadata": {},
     "output_type": "execute_result"
    }
   ],
   "source": [
    "# String x-mal verketten\n",
    "name * 100"
   ]
  },
  {
   "cell_type": "code",
   "execution_count": 17,
   "id": "8b7827a0",
   "metadata": {},
   "outputs": [
    {
     "data": {
      "text/plain": [
       "'Ada10'"
      ]
     },
     "execution_count": 17,
     "metadata": {},
     "output_type": "execute_result"
    }
   ],
   "source": [
    "# Zwei verschiedene Datentypen können icht miteinander kombiniert werden können\n",
    "# name + 10 \n",
    "\n",
    "# Aber... wir können den Wert zu einer Zeichenkette machen\n",
    "name + \"10\"\n"
   ]
  },
  {
   "cell_type": "code",
   "execution_count": 18,
   "id": "14ed99f6",
   "metadata": {},
   "outputs": [
    {
     "data": {
      "text/plain": [
       "0.046621621621621624"
      ]
     },
     "execution_count": 18,
     "metadata": {},
     "output_type": "execute_result"
    }
   ],
   "source": [
    "# Division \n",
    "size/age"
   ]
  },
  {
   "cell_type": "markdown",
   "id": "e00fb76e",
   "metadata": {},
   "source": [
    "## Anlegen von Listen "
   ]
  },
  {
   "cell_type": "markdown",
   "id": "8adcbd59",
   "metadata": {},
   "source": [
    "Erstellen wir gemeinsam eine Liste. Die Liste darf man so nennen, wie man möchte und mit Werten befüllen. Probieren wir es aus und nehmen ein Keksrezept. Bitte fügt selbstständig die Zutaten eures Keksteigs in den \"\" hinzu. "
   ]
  },
  {
   "cell_type": "code",
   "execution_count": 20,
   "id": "8a9da933",
   "metadata": {},
   "outputs": [],
   "source": [
    "list_keks = [\"Erdnussmus\", \"Haferflocken\", \"Banane\", \"Cranberries\", \"VeganeSchokolade\"]"
   ]
  },
  {
   "cell_type": "markdown",
   "id": "7d6d8a66",
   "metadata": {},
   "source": [
    "Was ist denn in dem Rezept drin? "
   ]
  },
  {
   "cell_type": "code",
   "execution_count": 21,
   "id": "f92cef16",
   "metadata": {},
   "outputs": [
    {
     "data": {
      "text/plain": [
       "['Erdnussmus', 'Haferflocken', 'Banane', 'Cranberries', 'VeganeSchokolade']"
      ]
     },
     "execution_count": 21,
     "metadata": {},
     "output_type": "execute_result"
    }
   ],
   "source": [
    "list_keks "
   ]
  },
  {
   "cell_type": "markdown",
   "id": "c77615c4",
   "metadata": {},
   "source": [
    "Wie viele Zutaten muss ich auf die Einkaufsliste setzen? Zähle. "
   ]
  },
  {
   "cell_type": "code",
   "execution_count": 22,
   "id": "1df406aa",
   "metadata": {},
   "outputs": [
    {
     "data": {
      "text/plain": [
       "5"
      ]
     },
     "execution_count": 22,
     "metadata": {},
     "output_type": "execute_result"
    }
   ],
   "source": [
    "len(list_keks) "
   ]
  },
  {
   "cell_type": "markdown",
   "id": "e996b53c",
   "metadata": {},
   "source": [
    "## Erstellen von Schleifen"
   ]
  },
  {
   "cell_type": "markdown",
   "id": "66f79996",
   "metadata": {},
   "source": [
    "Viele Befehle in Python muss man bis zum gewünschten Ergebnis wiederholt ausführen, damit alle Datensätze oder Variablen analysiert oder aufbereitet werden. Das erledigt man am besten in Schleifen. Sie laufen solange, bis eine Kondition erfüllt ist oder alle Objekte durchlaufen wurden. "
   ]
  },
  {
   "cell_type": "markdown",
   "id": "c6b8a3b0",
   "metadata": {},
   "source": [
    "Grundlegend geht das ganz einfach... lassen wir uns die ganze Liste mit dem Printbefehl ausgeben. Die Schleife definieren wir als Zutat. "
   ]
  },
  {
   "cell_type": "code",
   "execution_count": 23,
   "id": "a1e7a26c",
   "metadata": {},
   "outputs": [
    {
     "name": "stdout",
     "output_type": "stream",
     "text": [
      "Erdnussmus\n",
      "Haferflocken\n",
      "Banane\n",
      "Cranberries\n",
      "VeganeSchokolade\n"
     ]
    }
   ],
   "source": [
    "for Zutat in list_keks:\n",
    "    print(Zutat)"
   ]
  },
  {
   "cell_type": "code",
   "execution_count": 27,
   "id": "36551d2a",
   "metadata": {},
   "outputs": [
    {
     "name": "stdout",
     "output_type": "stream",
     "text": [
      "Erdnussmus habe ich in meiner Küche!\n",
      "Haferflocken habe ich in meiner Küche!\n",
      "Banane habe ich in meiner Küche!\n",
      "Cranberries habe ich in meiner Küche!\n",
      "VeganeSchokolade habe ich in meiner Küche!\n"
     ]
    }
   ],
   "source": [
    "for Zutat in list_keks:\n",
    "    print(Zutat + \" habe ich in meiner Küche!\")"
   ]
  },
  {
   "cell_type": "markdown",
   "id": "1292be03",
   "metadata": {},
   "source": [
    "### Conditionals"
   ]
  },
  {
   "cell_type": "markdown",
   "id": "b4313949",
   "metadata": {},
   "source": [
    "Bedingungen kommen in Schleifen zum Einsatz. Nicht jede Schleife endet mit einem eindeutigen und positiven Ausgang. Man kann bestimmte Ausgänge oder Aktionen programmieren, die geschehen, sollte etwas nicht eintreffen. Ganz simpel erklärt am Beispiel der Kekse. Wir haben eine Backtemperatur, die wir festsetzen. Ist diese unter 160°C, ist der Keks noch roh. Ist sie genau perfekt, riecht er gut - ist sie viel zu warm, haben wir viele Kalorien verbrannt. Testen wir unsere Backtemperatur, indem wir sie in der Variable temp definieren. "
   ]
  },
  {
   "cell_type": "code",
   "execution_count": 33,
   "id": "79ad60f3",
   "metadata": {},
   "outputs": [
    {
     "name": "stdout",
     "output_type": "stream",
     "text": [
      "Ganz schön viele Kalorien verbrannt.\n"
     ]
    }
   ],
   "source": [
    "temp = 200\n",
    "\n",
    "if temp >= 200:\n",
    "    print(\"Ganz schön viele Kalorien verbrannt.\")\n",
    "elif temp <= 160:\n",
    "    print(\"Der Keks schwimmt weg..\")\n",
    "else:\n",
    "    print(\"Riecht das lecker!\")"
   ]
  },
  {
   "cell_type": "markdown",
   "id": "3145e283",
   "metadata": {},
   "source": [
    "Alles einschließlich dem Wert 200 bringt die erste Meldung hervor. Ist der Wert unter 160, erscheint die mittlere Meldung. Für den Zwischenbereich zwischen 161 und 199 greift die dritte Kondition. Probieren wir es aus! "
   ]
  },
  {
   "cell_type": "markdown",
   "id": "0c57cf05",
   "metadata": {},
   "source": [
    "# Was haben Kekse mit der Bibliothek zu tun? "
   ]
  },
  {
   "cell_type": "markdown",
   "id": "18907ea6",
   "metadata": {},
   "source": [
    "Außer, dass wir sie gern gemeinsam essen, vermutlich nichts. Im übertragenen Sinne kann ich aber Kekse als Suchbegriff nutzen und auf Python-Bibliotheken zugreifen, die mir die Arbeit mit XML, MARC-21, etc. ermöglichen. Viele dieser Bibliotheken und Beispiele nutzen wir bereits im DNBLab. Python bildet die Grundlage, lässt sich aber durch Bibliotheken anreichern, die mir bestimmte Arbeitsschritte ermöglichen oder erleichtern. "
   ]
  },
  {
   "cell_type": "code",
   "execution_count": null,
   "id": "78d08809",
   "metadata": {},
   "outputs": [],
   "source": []
  }
 ],
 "metadata": {
  "kernelspec": {
   "display_name": "Python 3 (ipykernel)",
   "language": "python",
   "name": "python3"
  },
  "language_info": {
   "codemirror_mode": {
    "name": "ipython",
    "version": 3
   },
   "file_extension": ".py",
   "mimetype": "text/x-python",
   "name": "python",
   "nbconvert_exporter": "python",
   "pygments_lexer": "ipython3",
   "version": "3.11.5"
  }
 },
 "nbformat": 4,
 "nbformat_minor": 5
}
