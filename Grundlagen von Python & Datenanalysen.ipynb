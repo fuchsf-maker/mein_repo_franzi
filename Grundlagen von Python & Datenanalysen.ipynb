{
 "cells": [
  {
   "cell_type": "markdown",
   "id": "f2e6d58b",
   "metadata": {},
   "source": [
    "# Grundlagen von Python & Datenanalysen"
   ]
  },
  {
   "cell_type": "markdown",
   "id": "f5b46b50",
   "metadata": {},
   "source": [
    "Wir verwenden Python über Jupyter Notebooks. Jupyter Notebooks bieten eine perfekte Balance zwischen ausführbarem Code und deren Beschreibungstexten in sogenannten Mark Down's. In diesem Notebook wollen wir die Grundlagen lernen und eine erste praktische Übung durchführen. Diese Einführung dient als Basic-Einführung, um die Prozesse zu verstehen. In Schritt 2 widmen wir uns der Praxis mit einer Datenanalyse. "
   ]
  },
  {
   "cell_type": "markdown",
   "id": "51570d8f",
   "metadata": {},
   "source": [
    "Das wichtigste bei Jupyter Notebooks. <b>Immer alle Codezellen in absteigender Reihenfolge ausführen, sonst kommt es zu Fehlermeldungen!</b>"
   ]
  },
  {
   "cell_type": "markdown",
   "id": "cd11c9b6",
   "metadata": {},
   "source": [
    "## Der erste Python Befehl"
   ]
  },
  {
   "cell_type": "markdown",
   "id": "5b4a74ab",
   "metadata": {},
   "source": [
    "Jedes Tutorial startet mit einer Begrüßung. Begrüßen wir unser Referat. Dafür nutzen wir den Printbefehl und geben in \"\" an, was gedruckt werden soll. Dies kann in der Praxis nicht nur mit Textbausteinen, sondern auch mit Variablen gefüllt werden, um Auswertungsergebnisse anzuzeigen. "
   ]
  },
  {
   "cell_type": "code",
   "execution_count": 1,
   "id": "3493834e",
   "metadata": {
    "tags": []
   },
   "outputs": [
    {
     "name": "stdout",
     "output_type": "stream",
     "text": [
      "Hallo 2D.1!\n"
     ]
    }
   ],
   "source": [
    "print(\"Hallo 2D.1!\")"
   ]
  },
  {
   "cell_type": "code",
   "execution_count": 2,
   "id": "e84bd7b2",
   "metadata": {
    "tags": []
   },
   "outputs": [
    {
     "name": "stdout",
     "output_type": "stream",
     "text": [
      "Wo ist der Text hin?\n"
     ]
    }
   ],
   "source": [
    "# Was passiert mit diesem Text? \n",
    "print(\"Wo ist der Text hin?\")"
   ]
  },
  {
   "cell_type": "markdown",
   "id": "d01ffaaf",
   "metadata": {},
   "source": [
    "Kommentare in Python werden mit # eingeleitet. Sie sind essentiell, um den geschriebenen Code zu beschreiben und bei einer späteren Bearbeitung inhaltlich wieder einsteigen zu können. "
   ]
  },
  {
   "cell_type": "markdown",
   "id": "5f92db34",
   "metadata": {},
   "source": [
    "## Die Datentypen (Variablen) "
   ]
  },
  {
   "cell_type": "markdown",
   "id": "87b9749d",
   "metadata": {},
   "source": [
    "Zur Arbeit in Python kann man verschiedene Datentypen, sogenannte Variablen defininieren. Einfach gesagt sind das Werte, in die wir etwas reinapcken können. Die Auswertung verschiedener Datentypen untereinander ist nicht möglich. Variablen können verkettet werden, d.h. man kann aus verschiedenen Variablen seine Werte zusammenbauen. Die Printbefehle geben den definierten Wert aus. "
   ]
  },
  {
   "cell_type": "code",
   "execution_count": 3,
   "id": "fa5ae67f",
   "metadata": {},
   "outputs": [
    {
     "name": "stdout",
     "output_type": "stream",
     "text": [
      "Ada\n",
      "37\n",
      "1.725\n",
      "True\n",
      "False\n"
     ]
    }
   ],
   "source": [
    "# Strings- Zeichenketten, um Text zu repräsentieren und zu bearbeiten.\n",
    "name = \"Ada\"\n",
    "print(name)\n",
    "\n",
    "# Integer - Ganzzahlen, Integer (Ganzzahlen) werden verwendet, um ganze Zahlen darzustellen und zu manipulieren.\n",
    "age = 37 # Ein Integer darf keine \"\" bekommen. \n",
    "print(age)\n",
    "\n",
    "# Float- Gleitkommazahlen.  Float (Gleitkommazahlen) werden verwendet, um reelle Zahlen darzustellen und zu manipulieren, insbesondere wenn Dezimalstellen erforderlich sind.\n",
    "size = 1.725 # Nur mit Punkten arbeiten. Hier wird der \"amerikanische\" Typ genommen\n",
    "print(size)\n",
    "\n",
    "# Boolean - Boolsche Werte repräsentierten zwei Werte: True oder False. Sie werden verwendet, um logische Aussagen und Bedingungen darzustellen.\n",
    "knows_math = True\n",
    "likes_gardening = False # True und False sind Boolsche Werte. Etwas kann nur warhr oder falsch sein \n",
    "print(knows_math)\n",
    "print(likes_gardening)"
   ]
  },
  {
   "cell_type": "markdown",
   "id": "c9dcac0b",
   "metadata": {},
   "source": [
    "## Operatoren "
   ]
  },
  {
   "cell_type": "code",
   "execution_count": 4,
   "id": "7d855ba5",
   "metadata": {},
   "outputs": [
    {
     "data": {
      "text/plain": [
       "10"
      ]
     },
     "execution_count": 4,
     "metadata": {},
     "output_type": "execute_result"
    }
   ],
   "source": [
    "# Addition von Integer \n",
    "5 + 5"
   ]
  },
  {
   "cell_type": "code",
   "execution_count": 5,
   "id": "7a878df0",
   "metadata": {},
   "outputs": [
    {
     "data": {
      "text/plain": [
       "9250"
      ]
     },
     "execution_count": 5,
     "metadata": {},
     "output_type": "execute_result"
    }
   ],
   "source": [
    "# Multiplizieren\n",
    "age * 250"
   ]
  },
  {
   "cell_type": "code",
   "execution_count": 6,
   "id": "597bca99",
   "metadata": {},
   "outputs": [
    {
     "data": {
      "text/plain": [
       "'AdaAda'"
      ]
     },
     "execution_count": 6,
     "metadata": {},
     "output_type": "execute_result"
    }
   ],
   "source": [
    "# Verkettings von Strings \n",
    "name + name"
   ]
  },
  {
   "cell_type": "code",
   "execution_count": 7,
   "id": "ed742db6",
   "metadata": {},
   "outputs": [
    {
     "data": {
      "text/plain": [
       "'AdaAdaAdaAdaAdaAdaAdaAdaAdaAdaAdaAdaAdaAdaAdaAdaAdaAdaAdaAdaAdaAdaAdaAdaAdaAdaAdaAdaAdaAdaAdaAdaAdaAdaAdaAdaAdaAdaAdaAdaAdaAdaAdaAdaAdaAdaAdaAdaAdaAdaAdaAdaAdaAdaAdaAdaAdaAdaAdaAdaAdaAdaAdaAdaAdaAdaAdaAdaAdaAdaAdaAdaAdaAdaAdaAdaAdaAdaAdaAdaAdaAdaAdaAdaAdaAdaAdaAdaAdaAdaAdaAdaAdaAdaAdaAdaAdaAdaAdaAda'"
      ]
     },
     "execution_count": 7,
     "metadata": {},
     "output_type": "execute_result"
    }
   ],
   "source": [
    "# String x-mal verketten\n",
    "name * 100"
   ]
  },
  {
   "cell_type": "code",
   "execution_count": 8,
   "id": "8b7827a0",
   "metadata": {},
   "outputs": [
    {
     "data": {
      "text/plain": [
       "'Ada10'"
      ]
     },
     "execution_count": 8,
     "metadata": {},
     "output_type": "execute_result"
    }
   ],
   "source": [
    "# Zwei verschiedene Datentypen können icht miteinander kombiniert werden können\n",
    "# name + 10 \n",
    "\n",
    "# Aber... wir können den Wert zu einer Zeichenkette machen\n",
    "name + \"10\"\n"
   ]
  },
  {
   "cell_type": "code",
   "execution_count": 9,
   "id": "14ed99f6",
   "metadata": {},
   "outputs": [
    {
     "data": {
      "text/plain": [
       "0.046621621621621624"
      ]
     },
     "execution_count": 9,
     "metadata": {},
     "output_type": "execute_result"
    }
   ],
   "source": [
    "# Division \n",
    "size/age"
   ]
  },
  {
   "cell_type": "markdown",
   "id": "e00fb76e",
   "metadata": {},
   "source": [
    "## Anlegen von Listen "
   ]
  },
  {
   "cell_type": "markdown",
   "id": "8adcbd59",
   "metadata": {},
   "source": [
    "Erstellen wir gemeinsam eine Liste. Die Liste darf man so nennen, wie man möchte und mit Werten befüllen. Probieren wir es aus und nehmen ein Keksrezept. Bitte fügt selbstständig die Zutaten eures Keksteigs in den \"\" hinzu. "
   ]
  },
  {
   "cell_type": "code",
   "execution_count": 10,
   "id": "8a9da933",
   "metadata": {
    "tags": []
   },
   "outputs": [],
   "source": [
    "list_keks = [\"Erdnussmus\", \"Haferflocken\", \"Banane\", \"Cranberries\", \"VeganeSchokolade\"]"
   ]
  },
  {
   "cell_type": "markdown",
   "id": "7d6d8a66",
   "metadata": {},
   "source": [
    "Was ist denn in dem Rezept drin? "
   ]
  },
  {
   "cell_type": "code",
   "execution_count": 11,
   "id": "f92cef16",
   "metadata": {
    "tags": []
   },
   "outputs": [
    {
     "data": {
      "text/plain": [
       "['Erdnussmus', 'Haferflocken', 'Banane', 'Cranberries', 'VeganeSchokolade']"
      ]
     },
     "execution_count": 11,
     "metadata": {},
     "output_type": "execute_result"
    }
   ],
   "source": [
    "list_keks "
   ]
  },
  {
   "cell_type": "markdown",
   "id": "c77615c4",
   "metadata": {},
   "source": [
    "Wie viele Zutaten muss ich auf die Einkaufsliste setzen? Zähle. "
   ]
  },
  {
   "cell_type": "code",
   "execution_count": 12,
   "id": "1df406aa",
   "metadata": {
    "tags": []
   },
   "outputs": [
    {
     "data": {
      "text/plain": [
       "5"
      ]
     },
     "execution_count": 12,
     "metadata": {},
     "output_type": "execute_result"
    }
   ],
   "source": [
    "len(list_keks) "
   ]
  },
  {
   "cell_type": "markdown",
   "id": "e996b53c",
   "metadata": {},
   "source": [
    "## Erstellen von Schleifen"
   ]
  },
  {
   "cell_type": "markdown",
   "id": "66f79996",
   "metadata": {},
   "source": [
    "Viele Befehle in Python muss man bis zum gewünschten Ergebnis wiederholt ausführen, damit alle Datensätze oder Variablen analysiert oder aufbereitet werden. Das erledigt man am besten in Schleifen. Sie laufen solange, bis eine Kondition erfüllt ist oder alle Objekte durchlaufen wurden. "
   ]
  },
  {
   "cell_type": "markdown",
   "id": "c6b8a3b0",
   "metadata": {},
   "source": [
    "Grundlegend geht das ganz einfach... lassen wir uns die ganze Liste mit dem Printbefehl ausgeben. Die Schleife definieren wir als Zutat. "
   ]
  },
  {
   "cell_type": "code",
   "execution_count": 13,
   "id": "a1e7a26c",
   "metadata": {},
   "outputs": [
    {
     "name": "stdout",
     "output_type": "stream",
     "text": [
      "Erdnussmus\n",
      "Haferflocken\n",
      "Banane\n",
      "Cranberries\n",
      "VeganeSchokolade\n"
     ]
    }
   ],
   "source": [
    "for Zutat in list_keks:\n",
    "    print(Zutat)"
   ]
  },
  {
   "cell_type": "code",
   "execution_count": 14,
   "id": "36551d2a",
   "metadata": {},
   "outputs": [
    {
     "name": "stdout",
     "output_type": "stream",
     "text": [
      "Erdnussmus habe ich in meiner Küche!\n",
      "Haferflocken habe ich in meiner Küche!\n",
      "Banane habe ich in meiner Küche!\n",
      "Cranberries habe ich in meiner Küche!\n",
      "VeganeSchokolade habe ich in meiner Küche!\n"
     ]
    }
   ],
   "source": [
    "for Zutat in list_keks:\n",
    "    print(Zutat + \" habe ich in meiner Küche!\")"
   ]
  },
  {
   "cell_type": "markdown",
   "id": "1292be03",
   "metadata": {},
   "source": [
    "### Conditionals"
   ]
  },
  {
   "cell_type": "markdown",
   "id": "b4313949",
   "metadata": {},
   "source": [
    "Bedingungen kommen in Schleifen zum Einsatz. Nicht jede Schleife endet mit einem eindeutigen und positiven Ausgang. Man kann bestimmte Ausgänge oder Aktionen programmieren, die geschehen, sollte etwas nicht eintreffen. Ganz simpel erklärt am Beispiel der Kekse. Wir haben eine Backtemperatur, die wir festsetzen. Ist diese unter 160°C, ist der Keks noch roh. Ist sie genau perfekt, riecht er gut - ist sie viel zu warm, haben wir viele Kalorien verbrannt. Testen wir unsere Backtemperatur, indem wir sie in der Variable temp definieren. "
   ]
  },
  {
   "cell_type": "code",
   "execution_count": 15,
   "id": "79ad60f3",
   "metadata": {
    "tags": []
   },
   "outputs": [
    {
     "name": "stdout",
     "output_type": "stream",
     "text": [
      "Ganz schön viele Kalorien verbrannt.\n"
     ]
    }
   ],
   "source": [
    "temp = 500\n",
    "\n",
    "if temp >= 200:\n",
    "    print(\"Ganz schön viele Kalorien verbrannt.\")\n",
    "elif temp <= 160:\n",
    "    print(\"Der Keks schwimmt weg..\")\n",
    "else:\n",
    "    print(\"Riecht das lecker!\")"
   ]
  },
  {
   "cell_type": "markdown",
   "id": "3145e283",
   "metadata": {},
   "source": [
    "Alles einschließlich dem Wert 200 bringt die erste Meldung hervor. Ist der Wert unter 160, erscheint die mittlere Meldung. Für den Zwischenbereich zwischen 161 und 199 greift die dritte Kondition. Probieren wir es aus! "
   ]
  },
  {
   "cell_type": "markdown",
   "id": "0c57cf05",
   "metadata": {},
   "source": [
    "# Was haben Kekse mit der Bibliothek zu tun? (fortgeschritten) "
   ]
  },
  {
   "cell_type": "markdown",
   "id": "18907ea6",
   "metadata": {},
   "source": [
    "Außer, dass wir sie gern gemeinsam essen, vermutlich nichts. Im übertragenen Sinne kann ich aber Kekse als Suchbegriff nutzen und auf Python-Bibliotheken zugreifen, die mir die Arbeit mit XML, MARC-21, etc. ermöglichen. Viele dieser Bibliotheken und Beispiele nutzen wir bereits im DNBLab. Python bildet die Grundlage, lässt sich aber durch Bibliotheken anreichern, die mir bestimmte Arbeitsschritte ermöglichen oder erleichtern. Nutzen wir also die SRU-Schnittstelle der Deutschen Nationalbibliothek, um uns Bücher über Kekse zu suchen. Dafür stellen wir auch in Python unsere Zutaten und Hilfsmittel bereit, hier Bibliotheken, die uns bestimmte Funktionen ermöglichen, zum Beispiel das Lesen von XML-Dateien."
   ]
  },
  {
   "cell_type": "code",
   "execution_count": 16,
   "id": "78d08809",
   "metadata": {
    "tags": []
   },
   "outputs": [],
   "source": [
    "import requests\n",
    "from bs4 import BeautifulSoup as soup\n",
    "import unicodedata\n",
    "from lxml import etree\n",
    "import pandas as pd"
   ]
  },
  {
   "cell_type": "markdown",
   "id": "258c4698-de6c-4411-8dec-4d9794917e38",
   "metadata": {
    "tags": []
   },
   "source": [
    "### Durchsuchen wir nun ein MARC-Feld. \n",
    "\n",
    "In dieser Funktion stellt die \"query\" unsere gewünschte Zutat dar – den Suchbegriff, den wir in das Rezept eingeben. Das base_url ist wie der Backofen, die Basis, die wir nutzen, also die SRU-Schnittstelle. Wie beim Backen geben wir auch der Schnittstelle bestimmte Parameter mit, um unser Ergebnis zu definieren, beim Backofen wäre das die Backtemperatur und die Maximale Anzahl der Kekse.\n",
    "\n",
    "Wenn wir die Funktion ausführen, schicken wir unsere Anfrage an die SRU-Schnittstelle und erhalten die ersten 100 Datensätze. Wenn weniger als 100 Ergebnisse zurückkommen, ist der Vorgang beendet. Andernfalls müssen wir weitersuchen (oder weiterbacken. Dabei erhöhen wir die Anzahl der Datensätze (oder Kekse), bis wir alle haben."
   ]
  },
  {
   "cell_type": "code",
   "execution_count": 17,
   "id": "5aac8406-b773-48fb-a113-b1b00fc81d36",
   "metadata": {},
   "outputs": [],
   "source": [
    "def dnb_sru(query):\n",
    "    \n",
    "    base_url = \"https://services.dnb.de/sru/dnb\"\n",
    "    params = {'recordSchema' : 'MARC21-xml',\n",
    "          'operation': 'searchRetrieve',\n",
    "          'version': '1.1',\n",
    "          'maximumRecords': '100',\n",
    "          'query': query\n",
    "         }\n",
    "    r = requests.get(base_url, params=params)\n",
    "    xml = soup(r.content)\n",
    "    records = xml.find_all('record', {'type':'Bibliographic'})\n",
    "    \n",
    "    if len(records) < 100:\n",
    "        \n",
    "        return records\n",
    "    \n",
    "    else:\n",
    "        \n",
    "        num_results = 100\n",
    "        i = 101\n",
    "        while num_results == 100:\n",
    "            \n",
    "            params.update({'startRecord': i})\n",
    "            r = requests.get(base_url, params=params)\n",
    "            xml = soup(r.content)\n",
    "            new_records = xml.find_all('record', {'type':'Bibliographic'})\n",
    "            records+=new_records\n",
    "            i+=100\n",
    "            num_results = len(new_records)\n",
    "            \n",
    "        return records"
   ]
  },
  {
   "cell_type": "code",
   "execution_count": 18,
   "id": "b77e98c8-91d2-43ce-9be8-5c0e37bcd2cc",
   "metadata": {
    "tags": []
   },
   "outputs": [],
   "source": [
    "def parse_record(record):\n",
    "    \n",
    "    ns = {\"marc\":\"http://www.loc.gov/MARC21/slim\"}\n",
    "    xml = etree.fromstring(unicodedata.normalize(\"NFC\", str(record)))\n",
    "    \n",
    "    #idn\n",
    "    idn = xml.xpath(\"marc:controlfield[@tag = '001']\", namespaces=ns)\n",
    "    try:\n",
    "        idn = idn[0].text\n",
    "    except:\n",
    "        idn = 'fail'\n",
    "    \n",
    "    # titel\n",
    "    titel = xml.xpath(\"marc:datafield[@tag = '245']/marc:subfield[@code = 'a']\", namespaces=ns)\n",
    "    \n",
    "    try:\n",
    "        titel = titel[0].text\n",
    "        #titel = unicodedata.normalize(\"NFC\", titel)\n",
    "    except:\n",
    "        titel = \"unkown\"\n",
    "        \n",
    "    meta_dict = {\"idn\":idn,\n",
    "                 \"titel\":titel}\n",
    "    \n",
    "    return meta_dict"
   ]
  },
  {
   "cell_type": "markdown",
   "id": "8479dcce-8c44-452d-a3c2-feeb71ee3117",
   "metadata": {},
   "source": [
    "Über die verschiedenen Indices https://services.dnb.de/sru/dnb?operation=explain&version=1.1 kann die SRU-Abfrage mittels CQL gezielt (zB.: in Kombination mit dem Standort \"online frei verfügbar\") eingeschränkt werden. Auf diese Art kann durch Anpassen des Codes nach verschiedenen Begriffen in beliebigen MARC-Feldern gesucht werden. Wir möchten nun alle Browniekekse finden. "
   ]
  },
  {
   "cell_type": "code",
   "execution_count": 19,
   "id": "7dd59d52-8fec-4869-88f5-20e14035b838",
   "metadata": {
    "tags": []
   },
   "outputs": [
    {
     "name": "stderr",
     "output_type": "stream",
     "text": [
      "C:\\Program Files\\Anaconda3 2023.09-0 64-bit\\Lib\\site-packages\\bs4\\builder\\__init__.py:545: XMLParsedAsHTMLWarning: It looks like you're parsing an XML document using an HTML parser. If this really is an HTML document (maybe it's XHTML?), you can ignore or filter this warning. If it's XML, you should know that using an XML parser will be more reliable. To parse this document as XML, make sure you have the lxml package installed, and pass the keyword argument `features=\"xml\"` into the BeautifulSoup constructor.\n",
      "  warnings.warn(\n"
     ]
    },
    {
     "name": "stdout",
     "output_type": "stream",
     "text": [
      "75 Ergebnisse\n"
     ]
    }
   ],
   "source": [
    "records = dnb_sru('tit=Brownie')\n",
    "print(len(records), 'Ergebnisse')"
   ]
  },
  {
   "cell_type": "markdown",
   "id": "18d58fb5-0735-4462-b129-b6c5f1683c14",
   "metadata": {},
   "source": [
    "Anschließend können wir diese Kekse auf ein Blech legen und sie uns genauer ansehen. Das macht man bei Python mittels eines Dataframes - eine Tabelle."
   ]
  },
  {
   "cell_type": "code",
   "execution_count": 20,
   "id": "8f43cf1a-66a5-4702-859d-da196854f2b3",
   "metadata": {
    "tags": []
   },
   "outputs": [
    {
     "data": {
      "text/html": [
       "<div>\n",
       "<style scoped>\n",
       "    .dataframe tbody tr th:only-of-type {\n",
       "        vertical-align: middle;\n",
       "    }\n",
       "\n",
       "    .dataframe tbody tr th {\n",
       "        vertical-align: top;\n",
       "    }\n",
       "\n",
       "    .dataframe thead th {\n",
       "        text-align: right;\n",
       "    }\n",
       "</style>\n",
       "<table border=\"1\" class=\"dataframe\">\n",
       "  <thead>\n",
       "    <tr style=\"text-align: right;\">\n",
       "      <th></th>\n",
       "      <th>idn</th>\n",
       "      <th>titel</th>\n",
       "    </tr>\n",
       "  </thead>\n",
       "  <tbody>\n",
       "    <tr>\n",
       "      <th>0</th>\n",
       "      <td>1340975785</td>\n",
       "      <td>Das Jahr der Milane 2</td>\n",
       "    </tr>\n",
       "    <tr>\n",
       "      <th>1</th>\n",
       "      <td>1274011493</td>\n",
       "      <td>Brownie, Flocke, Susie &amp; Co.</td>\n",
       "    </tr>\n",
       "    <tr>\n",
       "      <th>2</th>\n",
       "      <td>1257665235</td>\n",
       "      <td>Get on board - the songs of Sonny Terry &amp; Brow...</td>\n",
       "    </tr>\n",
       "    <tr>\n",
       "      <th>3</th>\n",
       "      <td>1265150613</td>\n",
       "      <td>Get on board</td>\n",
       "    </tr>\n",
       "    <tr>\n",
       "      <th>4</th>\n",
       "      <td>1243264020</td>\n",
       "      <td>Brownie und Weisslinde</td>\n",
       "    </tr>\n",
       "    <tr>\n",
       "      <th>...</th>\n",
       "      <td>...</td>\n",
       "      <td>...</td>\n",
       "    </tr>\n",
       "    <tr>\n",
       "      <th>70</th>\n",
       "      <td>382220242</td>\n",
       "      <td>I dream of Brownie with the light blue jeans</td>\n",
       "    </tr>\n",
       "    <tr>\n",
       "      <th>71</th>\n",
       "      <td>932353355</td>\n",
       "      <td>The Brownie of Bodsbeck</td>\n",
       "    </tr>\n",
       "    <tr>\n",
       "      <th>72</th>\n",
       "      <td>932353363</td>\n",
       "      <td>The Brownie of Bodsbeck</td>\n",
       "    </tr>\n",
       "    <tr>\n",
       "      <th>73</th>\n",
       "      <td>552288802</td>\n",
       "      <td>The Brownie of Bodsbeck</td>\n",
       "    </tr>\n",
       "    <tr>\n",
       "      <th>74</th>\n",
       "      <td>132687487X</td>\n",
       "      <td>The Burnout PRedictiOn Using Wearable aNd Ar...</td>\n",
       "    </tr>\n",
       "  </tbody>\n",
       "</table>\n",
       "<p>75 rows × 2 columns</p>\n",
       "</div>"
      ],
      "text/plain": [
       "           idn                                              titel\n",
       "0   1340975785                            Das Jahr der Milane 2\n",
       "1   1274011493                       Brownie, Flocke, Susie & Co.\n",
       "2   1257665235  Get on board - the songs of Sonny Terry & Brow...\n",
       "3   1265150613                                       Get on board\n",
       "4   1243264020                             Brownie und Weisslinde\n",
       "..         ...                                                ...\n",
       "70   382220242       I dream of Brownie with the light blue jeans\n",
       "71   932353355                          The Brownie of Bodsbeck\n",
       "72   932353363                          The Brownie of Bodsbeck\n",
       "73   552288802                          The Brownie of Bodsbeck\n",
       "74  132687487X  The Burnout PRedictiOn Using Wearable aNd Ar...\n",
       "\n",
       "[75 rows x 2 columns]"
      ]
     },
     "execution_count": 20,
     "metadata": {},
     "output_type": "execute_result"
    }
   ],
   "source": [
    "output = [parse_record(record) for record in records]\n",
    "df = pd.DataFrame(output)\n",
    "df"
   ]
  },
  {
   "cell_type": "markdown",
   "id": "1c8e2bab-efcb-4750-8f26-ddd3794d78f4",
   "metadata": {},
   "source": [
    "Packen wir nun alle Browniekekse in eine Dose - praktisch zum Mitnehmen. Dafür nehmen wir unsere neue .csv Brotdose mit. "
   ]
  },
  {
   "cell_type": "code",
   "execution_count": 21,
   "id": "e1f8b737-c5fe-4b43-bd60-49b2fe578e21",
   "metadata": {
    "tags": []
   },
   "outputs": [],
   "source": [
    "df.to_csv(\"SRU_Titel.csv\", index=False)"
   ]
  }
 ],
 "metadata": {
  "kernelspec": {
   "display_name": "Python 3 (ipykernel)",
   "language": "python",
   "name": "python3"
  },
  "language_info": {
   "codemirror_mode": {
    "name": "ipython",
    "version": 3
   },
   "file_extension": ".py",
   "mimetype": "text/x-python",
   "name": "python",
   "nbconvert_exporter": "python",
   "pygments_lexer": "ipython3",
   "version": "3.11.5"
  }
 },
 "nbformat": 4,
 "nbformat_minor": 5
}
